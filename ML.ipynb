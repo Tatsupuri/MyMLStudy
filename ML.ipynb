{
 "cells": [
  {
   "cell_type": "markdown",
   "metadata": {},
   "source": [
    "# pytorch を用いて機械学習に入門する(その１：超基本)\n",
    "このノートではまず、pytorchを用いて基本的なチュートリアルをクリアしていきたい。\n",
    "\n",
    "pytorchの公式レファレンス\n",
    "https://pytorch.org/docs/stable/index.html"
   ]
  },
  {
   "cell_type": "markdown",
   "metadata": {},
   "source": [
    "以下の`torch.manual_seed(SEED)`は乱数生成のシードを渡す文である。\n",
    "https://pytorch.org/docs/stable/generated/torch.manual_seed.html"
   ]
  },
  {
   "cell_type": "code",
   "execution_count": 1,
   "metadata": {},
   "outputs": [
    {
     "data": {
      "text/plain": [
       "<torch._C.Generator at 0x1b0e7698b30>"
      ]
     },
     "execution_count": 1,
     "metadata": {},
     "output_type": "execute_result"
    }
   ],
   "source": [
    "import numpy as np\n",
    "import torch\n",
    "SEED=123\n",
    "np.random.seed(SEED)\n",
    "torch.manual_seed(SEED)"
   ]
  },
  {
   "cell_type": "markdown",
   "metadata": {},
   "source": [
    "## torch.Tensor クラス\n",
    "Pytorchでテンソルを定義する。`torch.Tensor`はpytorchで提供されるテンソルのデータ型である。各要素は全て同じ型であることが要求される。\n",
    "クラス型変数ということ？\n",
    "\n",
    "https://pytorch.org/docs/stable/tensors.html\n",
    "\n",
    "にあるように、CPU,GPUそれぞれに対しても違う方が提供されていたりする。"
   ]
  },
  {
   "cell_type": "code",
   "execution_count": 3,
   "metadata": {},
   "outputs": [
    {
     "name": "stdout",
     "output_type": "stream",
     "text": [
      "torch.zeros:\n",
      " tensor([[0., 0., 0.],\n",
      "        [0., 0., 0.]])\n",
      "<class 'torch.Tensor'>\n"
     ]
    }
   ],
   "source": [
    "t=torch.zeros(2,3)\n",
    "print('torch.zeros:\\n',t)\n",
    "print(type(t))"
   ]
  },
  {
   "cell_type": "code",
   "execution_count": 5,
   "metadata": {},
   "outputs": [
    {
     "name": "stdout",
     "output_type": "stream",
     "text": [
      "\n",
      "torch.ones:\n",
      " tensor([[1., 1.],\n",
      "        [1., 1.],\n",
      "        [1., 1.]])\n",
      "<class 'torch.Tensor'>\n"
     ]
    }
   ],
   "source": [
    "t=torch.ones(3,2)\n",
    "print('\\ntorch.ones:\\n',t)\n",
    "print(type(t))"
   ]
  },
  {
   "cell_type": "markdown",
   "metadata": {},
   "source": [
    "## torch.arange\n",
    "https://pytorch.org/docs/stable/generated/torch.arange.html#torch.arange"
   ]
  },
  {
   "cell_type": "code",
   "execution_count": 9,
   "metadata": {},
   "outputs": [
    {
     "name": "stdout",
     "output_type": "stream",
     "text": [
      "\n",
      "torch.arange:\n",
      " tensor([0, 1, 2, 3, 4, 5])\n",
      "\n",
      "torch.arange with reshape and cast to float:\n",
      " tensor([[0., 1., 2.],\n",
      "        [3., 4., 5.]])\n",
      "<class 'torch.Tensor'>\n"
     ]
    }
   ],
   "source": [
    "t=torch.arange(0,6,1)\n",
    "print('\\ntorch.arange:\\n',t)\n",
    "\n",
    "t=torch.arange(0,6,1).reshape(2,3).float()\n",
    "print('\\ntorch.arange with reshape and cast to float:\\n',t)\n",
    "print(type(t))"
   ]
  },
  {
   "cell_type": "code",
   "execution_count": 11,
   "metadata": {},
   "outputs": [
    {
     "name": "stdout",
     "output_type": "stream",
     "text": [
      "\n",
      "torch.randn:\n",
      " tensor([[-0.9724, -0.7550,  0.3239],\n",
      "        [-0.1085,  0.2103, -0.3908]])\n"
     ]
    }
   ],
   "source": [
    "t=torch.randn(2,3)\n",
    "print('\\ntorch.randn:\\n',t)"
   ]
  },
  {
   "cell_type": "markdown",
   "metadata": {},
   "source": [
    "## numpyからtorch.Tensorを作成"
   ]
  },
  {
   "cell_type": "code",
   "execution_count": 19,
   "metadata": {},
   "outputs": [
    {
     "name": "stdout",
     "output_type": "stream",
     "text": [
      "\n",
      "numpy unit mat:\n",
      " [[1. 0. 0. 0. 0.]\n",
      " [0. 1. 0. 0. 0.]\n",
      " [0. 0. 1. 0. 0.]\n",
      " [0. 0. 0. 1. 0.]\n",
      " [0. 0. 0. 0. 1.]]\n",
      "\n",
      "torch unit mat:\n",
      " tensor([[1., 0., 0., 0., 0.],\n",
      "        [0., 1., 0., 0., 0.],\n",
      "        [0., 0., 1., 0., 0.],\n",
      "        [0., 0., 0., 1., 0.],\n",
      "        [0., 0., 0., 0., 1.]])\n"
     ]
    }
   ],
   "source": [
    "np_mat = np.eye(5, M=None, k=0, dtype=float)\n",
    "print('\\nnumpy unit mat:\\n',np_mat)\n",
    "\n",
    "# data_np = np.zeros([10,10],dtype=np.float32)\n",
    "# np.fill_diagonal(data_np,1.)\n",
    "\n",
    "torch_mat = torch.Tensor(np_mat)\n",
    "print('\\ntorch unit mat:\\n',torch_mat)"
   ]
  },
  {
   "cell_type": "markdown",
   "metadata": {},
   "source": [
    "## torch.Tensorをnumpy arrayに変換\n",
    "torch.Tensorクラスにはnumpy()というメソッドが用意されており、これでNumpy arrayに変換する。"
   ]
  },
  {
   "cell_type": "code",
   "execution_count": 20,
   "metadata": {},
   "outputs": [
    {
     "data": {
      "text/plain": [
       "array([[1., 0., 0., 0., 0.],\n",
       "       [0., 1., 0., 0., 0.],\n",
       "       [0., 0., 1., 0., 0.],\n",
       "       [0., 0., 0., 1., 0.],\n",
       "       [0., 0., 0., 0., 1.]], dtype=float32)"
      ]
     },
     "execution_count": 20,
     "metadata": {},
     "output_type": "execute_result"
    }
   ],
   "source": [
    "torch_mat.numpy()"
   ]
  },
  {
   "cell_type": "markdown",
   "metadata": {},
   "source": [
    "基本の統計操作は、Numpyと同じようにtorch.Tensorにもメソッドが用意されている。item()メソッドはスカラー量を数値として取得する。"
   ]
  },
  {
   "cell_type": "code",
   "execution_count": 26,
   "metadata": {},
   "outputs": [
    {
     "name": "stdout",
     "output_type": "stream",
     "text": [
      "mean tensor(0.2000) std tensor(0.4082) sum tensor(5.)\n",
      "mean 0.20000000298023224 std 0.40824830532073975 sum 5.0\n"
     ]
    }
   ],
   "source": [
    "print('mean',torch_mat.mean(),'std',torch_mat.std(),'sum',torch_mat.sum())\n",
    "print('mean',torch_mat.mean().item(),'std',torch_mat.std().item(),'sum',torch_mat.sum().item())"
   ]
  },
  {
   "cell_type": "markdown",
   "metadata": {},
   "source": [
    "## 基本の演算\n",
    "まず、numpyで行列を定義し、torch.Tensorに変換する。"
   ]
  },
  {
   "cell_type": "code",
   "execution_count": 31,
   "metadata": {},
   "outputs": [
    {
     "name": "stdout",
     "output_type": "stream",
     "text": [
      "tensor([[1., 0., 0.],\n",
      "        [0., 1., 0.],\n",
      "        [0., 0., 1.]]) \n",
      "\n",
      " tensor([[1., 1., 1.],\n",
      "        [0., 0., 0.],\n",
      "        [0., 0., 0.]])\n"
     ]
    }
   ],
   "source": [
    "data1 = np.zeros([3,3],dtype=np.float32)\n",
    "np.fill_diagonal(data1,1.)\n",
    "torch1 = torch.Tensor(data1)\n",
    "\n",
    "data2 = np.zeros([3,3],dtype=np.float32)\n",
    "data2[0,:]=1.\n",
    "torch2 = torch.Tensor(data2)\n",
    "\n",
    "print(torch1,\"\\n\\n\",torch2)"
   ]
  },
  {
   "cell_type": "code",
   "execution_count": 32,
   "metadata": {},
   "outputs": [
    {
     "name": "stdout",
     "output_type": "stream",
     "text": [
      "tensor([[1., 0., 0.],\n",
      "        [0., 0., 0.],\n",
      "        [0., 0., 0.]])\n"
     ]
    }
   ],
   "source": [
    "# Elementwise multiplication\n",
    "print(torch1*torch2)"
   ]
  },
  {
   "cell_type": "code",
   "execution_count": 35,
   "metadata": {},
   "outputs": [
    {
     "name": "stdout",
     "output_type": "stream",
     "text": [
      "tensor([[1., 1., 1.],\n",
      "        [0., 0., 0.],\n",
      "        [0., 0., 0.]])\n"
     ]
    }
   ],
   "source": [
    "# Matrix multiplication\n",
    "print(torch1.matmul(torch2))"
   ]
  },
  {
   "cell_type": "code",
   "execution_count": 39,
   "metadata": {},
   "outputs": [
    {
     "name": "stdout",
     "output_type": "stream",
     "text": [
      "tensor([[2., 1., 1.],\n",
      "        [1., 2., 1.],\n",
      "        [1., 1., 2.]])\n"
     ]
    }
   ],
   "source": [
    "# Elemetwise Addision\n",
    "print(torch1+1)"
   ]
  },
  {
   "cell_type": "code",
   "execution_count": 40,
   "metadata": {},
   "outputs": [
    {
     "name": "stdout",
     "output_type": "stream",
     "text": [
      "tensor([[ 0., -1., -1.],\n",
      "        [ 0.,  1.,  0.],\n",
      "        [ 0.,  0.,  1.]])\n"
     ]
    }
   ],
   "source": [
    "# Matrix addition\n",
    "print(torch1-torch2)"
   ]
  },
  {
   "cell_type": "code",
   "execution_count": null,
   "metadata": {},
   "outputs": [],
   "source": []
  },
  {
   "cell_type": "code",
   "execution_count": null,
   "metadata": {},
   "outputs": [],
   "source": []
  },
  {
   "cell_type": "markdown",
   "metadata": {},
   "source": [
    "## GPUの利用に関して\n",
    "pytorchではGPU計算で使える形にするには次のように簡単にできる。\n",
    "pytorch.Tensorには、cuda()というメソッドが用意されている。これを呼ぶことでGPU計算に使えるデータ型でインスタンスを生成できる。"
   ]
  },
  {
   "cell_type": "code",
   "execution_count": 41,
   "metadata": {},
   "outputs": [],
   "source": [
    "# Create 1000x1000 matrix\n",
    "data_np=np.zeros([1000,1000],dtype=np.float32)\n",
    "data_cpu = torch.Tensor(data_np).cpu()\n",
    "data_gpu = torch.Tensor(data_np).cuda()"
   ]
  },
  {
   "cell_type": "code",
   "execution_count": 42,
   "metadata": {},
   "outputs": [
    {
     "name": "stdout",
     "output_type": "stream",
     "text": [
      "2.36 ms ± 316 µs per loop (mean ± std. dev. of 7 runs, 100 loops each)\n"
     ]
    }
   ],
   "source": [
    "%%timeit\n",
    "mean = (data_cpu ** 5).mean().item()"
   ]
  },
  {
   "cell_type": "code",
   "execution_count": 43,
   "metadata": {},
   "outputs": [
    {
     "name": "stdout",
     "output_type": "stream",
     "text": [
      "181 µs ± 4.81 µs per loop (mean ± std. dev. of 7 runs, 10000 loops each)\n"
     ]
    }
   ],
   "source": [
    "%%timeit\n",
    "mean = (data_gpu ** 5).mean().item()"
   ]
  },
  {
   "cell_type": "code",
   "execution_count": null,
   "metadata": {},
   "outputs": [],
   "source": []
  }
 ],
 "metadata": {
  "kernelspec": {
   "display_name": "Python 3",
   "language": "python",
   "name": "python3"
  },
  "language_info": {
   "codemirror_mode": {
    "name": "ipython",
    "version": 3
   },
   "file_extension": ".py",
   "mimetype": "text/x-python",
   "name": "python",
   "nbconvert_exporter": "python",
   "pygments_lexer": "ipython3",
   "version": "3.7.8"
  }
 },
 "nbformat": 4,
 "nbformat_minor": 4
}
